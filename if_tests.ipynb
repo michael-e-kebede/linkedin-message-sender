{
 "cells": [
  {
   "cell_type": "code",
   "execution_count": 6,
   "metadata": {},
   "outputs": [
    {
     "name": "stderr",
     "output_type": "stream",
     "text": [
      "/var/folders/nl/dhsj5lbn7sb4c4dtkncj9z0r0000gn/T/ipykernel_1279/2252835073.py:13: DeprecationWarning: executable_path has been deprecated, please pass in a Service object\n",
      "  driver = webdriver.Chrome(chrome_path)\n"
     ]
    },
    {
     "name": "stdout",
     "output_type": "stream",
     "text": [
      "Message\n"
     ]
    }
   ],
   "source": [
    "import selenium\n",
    "from selenium import webdriver\n",
    "from bs4 import BeautifulSoup\n",
    "from time import sleep\n",
    "from random import randint\n",
    "from selenium.webdriver.common.by import By\n",
    "\n",
    "username = 'tamsayne@gmail.com'\n",
    "password = 'D5T3mVzFaU%yyPqc'\n",
    "\n",
    "chrome_path = 'driver/chromedriver'\n",
    "\n",
    "driver = webdriver.Chrome(chrome_path)\n",
    "driver.get('https://www.linkedin.com/uas/login')\n",
    "\n",
    "elementID = driver.find_element(By.ID, 'username')\n",
    "elementID.send_keys(username)\n",
    "\n",
    "sleep(randint(3, 6))\n",
    "\n",
    "elementID = driver.find_element(By.ID, 'password')\n",
    "elementID.send_keys(password)\n",
    "\n",
    "elementID.submit()\n",
    "\n",
    "#This is for the \"CONNECTION\" button div\n",
    "xpath_conn = '/html/body/div[5]/div[3]/div/div/div[2]/div/div/main/section[1]/div[2]/div[3]/div/div[1]/button'\n",
    "xpath1_conn = '/html/body/div[4]/div[3]/div/div/div[2]/div/div/main/section[1]/div[2]/div[3]/div/div[1]/button'\n",
    "\n",
    "#This is for the \"MORE\" button\n",
    "xpath_more = '/html/body/div[4]/div[3]/div/div/div[2]/div/div/main/section[1]/div[2]/div[3]/div/div[3]/button'\n",
    "xpath_more1 = '/html/body/div[5]/div[3]/div/div/div[2]/div/div/main/section[1]/div[2]/div[3]/div/div[3]/button'\n",
    "\n",
    "#This is for the \"CONNECT\" button in the \"MORE\" section\n",
    "xpath_more_connect = '/html/body/div[4]/div[3]/div/div/div[2]/div/div/main/section[1]/div[2]/div[3]/div/div[3]/div/div/ul/li[4]/div'\n",
    "\n",
    "\n",
    "driver.get('https://www.linkedin.com/in/japhet-brandon-763276121/')\n",
    "sleep(randint(5, 7))\n",
    "\n",
    "\n",
    "soup = BeautifulSoup(driver.page_source, 'html.parser')\n",
    "connect_sec = soup.find(class_ = 'pv-top-card-v2-ctas')\n",
    "pre_div = connect_sec.find(class_ = 'pvs-profile-actions__action')\n",
    "connect_or_follow = pre_div.text.strip()\n",
    "print(connect_or_follow)"
   ]
  },
  {
   "cell_type": "code",
   "execution_count": 12,
   "metadata": {},
   "outputs": [],
   "source": [
    "try:\n",
    "    moreID = driver.find_element(By.XPATH, xpath_more)\n",
    "    moreID.click()\n",
    "    sleep(randint(5, 9))\n",
    "\n",
    "except Exception as e:\n",
    "    moreID = None\n",
    "\n",
    "if moreID is None:\n",
    "    try:\n",
    "        moreID = driver.find_element(By.XPATH, xpath_more1)\n",
    "        moreID.click()\n",
    "\n",
    "        sleep(randint(5, 9))\n",
    "    except Exception as e:\n",
    "        moreID = None\n"
   ]
  },
  {
   "cell_type": "code",
   "execution_count": 13,
   "metadata": {},
   "outputs": [],
   "source": [
    "connect_xpath = '/html/body/div[5]/div[3]/div/div/div[2]/div/div/main/section[1]/div[2]/div[3]/div/div[3]/div/div/ul/li[4]/div'\n",
    "test_xpath = '/html/body/div[5]/div[3]/div/div/div[2]/div/div/main/section[1]/div[2]/div[3]/div/div[3]/div/div/ul/li[3]/div'"
   ]
  },
  {
   "cell_type": "code",
   "execution_count": 14,
   "metadata": {},
   "outputs": [],
   "source": [
    "Connect_moreID = driver.find_element(By.XPATH, connect_xpath)\n",
    "Connect_moreID.click()"
   ]
  },
  {
   "cell_type": "code",
   "execution_count": 15,
   "metadata": {},
   "outputs": [
    {
     "name": "stdout",
     "output_type": "stream",
     "text": [
      "Message Account Sent\n",
      "------------------------------------------------------------------------------------------------------------------------\n"
     ]
    }
   ],
   "source": [
    "how_Connect_moreID = driver.find_element(By.XPATH, '/html/body/div[3]/div/div/div[2]/div/button[4]')\n",
    "how_Connect_moreID.click()\n",
    "\n",
    "sleep(randint(5, 9))\n",
    "\n",
    "Connect_final = driver.find_element(By.XPATH, '/html/body/div[3]/div/div/div[3]/button')\n",
    "Connect_final.click()\n",
    "\n",
    "add_noteID = driver.find_element(By.XPATH, '/html/body/div[3]/div/div/div[3]/button[1]')\n",
    "add_noteID.click()\n",
    "\n",
    "sleep(randint(5, 9))\n",
    "\n",
    "soup = BeautifulSoup(driver.page_source, 'html.parser')\n",
    "person_Name = soup.find('div', {'class' : 'artdeco-modal__header ember-view'}).find('h2').text.strip()\n",
    "person_Name = person_Name.split()\n",
    "person_Name = person_Name[1]\n",
    "\n",
    "message = f\"\"\"Hi {person_Name},\n",
    "\n",
    "Hope you are doing well.\n",
    "\n",
    "I might have an offer for you as a Back-End Web Application Developer. Would that be of interest to you? Your profile seems to be a good fit for our client.\n",
    "\n",
    "Warm regards,\n",
    "Rahel\"\"\"\n",
    "\n",
    "messageID = driver.find_element(By.ID, 'custom-message')\n",
    "messageID.send_keys(message)\n",
    "\n",
    "sleep(randint(8, 15))\n",
    "\n",
    "message_sent = driver.find_element(By.XPATH, '/html/body/div[3]/div/div/div[3]/button[2]')\n",
    "message_sent.click()\n",
    "\n",
    "print(\"Message Account Sent\")\n",
    "print('---'*40)\n",
    "\n",
    "sleep(randint(10, 20))"
   ]
  },
  {
   "cell_type": "code",
   "execution_count": null,
   "metadata": {},
   "outputs": [],
   "source": []
  }
 ],
 "metadata": {
  "kernelspec": {
   "display_name": "Python 3",
   "language": "python",
   "name": "python3"
  },
  "language_info": {
   "codemirror_mode": {
    "name": "ipython",
    "version": 3
   },
   "file_extension": ".py",
   "mimetype": "text/x-python",
   "name": "python",
   "nbconvert_exporter": "python",
   "pygments_lexer": "ipython3",
   "version": "3.10.9"
  },
  "orig_nbformat": 4,
  "vscode": {
   "interpreter": {
    "hash": "aee8b7b246df8f9039afb4144a1f6fd8d2ca17a180786b69acc140d282b71a49"
   }
  }
 },
 "nbformat": 4,
 "nbformat_minor": 2
}
